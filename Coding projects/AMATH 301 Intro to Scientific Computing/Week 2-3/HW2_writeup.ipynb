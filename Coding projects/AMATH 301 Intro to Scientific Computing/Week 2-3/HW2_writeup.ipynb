{
 "cells": [
  {
   "attachments": {},
   "cell_type": "markdown",
   "id": "3826c3d0",
   "metadata": {},
   "source": [
    "# Homework 2\n",
    "\n",
    "## Name: Dylan Renard\n",
    "## Section: AMATH 301 A"
   ]
  },
  {
   "cell_type": "markdown",
   "id": "aca42ac2",
   "metadata": {},
   "source": [
    "## Problem 1\n",
    "(Make sure your code is somewhere)"
   ]
  },
  {
   "cell_type": "code",
   "execution_count": 42,
   "id": "e950e07e",
   "metadata": {},
   "outputs": [],
   "source": [
    "import numpy as np\n",
    "import matplotlib.pyplot as plt\n"
   ]
  },
  {
   "cell_type": "code",
   "execution_count": 43,
   "id": "a1052c91",
   "metadata": {},
   "outputs": [],
   "source": [
    "\n",
    "y1 = 0\n",
    "y2 = 0\n",
    "y3 = 0\n",
    "y4 = 0\n",
    "\n",
    "# Initializing Coefficient terms\n",
    "term12 = 0.1\n",
    "term3 = 0.25\n",
    "term4 = 0.5\n",
    "\n",
    "for k in range(100000):\n",
    "    y1 += term12\n",
    "for k in range(100000000):\n",
    "    y2 += term12\n",
    "    y3 += term3\n",
    "    y4 += term4\n",
    "A6 = np.abs(10000 - y1)\n",
    "A7 = np.abs(y2 - 10000000)\n",
    "A8 = np.abs(25000000 - y3)\n",
    "A9 = np.abs(y4 - 50000000)\n",
    "\n",
    "\n"
   ]
  },
  {
   "cell_type": "markdown",
   "id": "8304a9b1",
   "metadata": {},
   "source": [
    "### Part a"
   ]
  },
  {
   "attachments": {},
   "cell_type": "markdown",
   "id": "14edfa7b",
   "metadata": {},
   "source": [
    "In Problem 2 of the coding portion of the homework, I found the following values for $x_1, x_2, x_3,$ and $x_4$. \n",
    "\n",
    "| $x_1$ | $x_2$ | $x_3$ | $x_4$ |\n",
    "| ----- | ----- | ----- | ----- |\n",
    "| 1.8848368199542165e-08 | 0.018870549276471138 |  0.0 | 0.0 |"
   ]
  },
  {
   "cell_type": "code",
   "execution_count": 44,
   "id": "c644eaab",
   "metadata": {},
   "outputs": [
    {
     "name": "stdout",
     "output_type": "stream",
     "text": [
      "Here are x1,x2,x3,x4 sorted from smallest to largest value\n",
      "{'x3': 0.0, 'x4': 0.0, 'x1': 1.8848368199542165e-08, 'x2': 0.018870549276471138}\n"
     ]
    }
   ],
   "source": [
    "q1 = {\"x1\":A6,\"x2\":A7,\"x3\":A8,\"x4\":A9}\n",
    "\n",
    "q1 = dict(sorted(q1.items(), key=lambda item: item[1]))\n",
    "\n",
    "print(\"Here are x1,x2,x3,x4 sorted from smallest to largest value\")\n",
    "print(q1)\n"
   ]
  },
  {
   "cell_type": "markdown",
   "id": "1ed166fc",
   "metadata": {},
   "source": [
    "### Part b"
   ]
  },
  {
   "cell_type": "code",
   "execution_count": 45,
   "id": "b6872625",
   "metadata": {},
   "outputs": [],
   "source": [
    "# I think the reason X3 and X4 were shown as exactly zero whereas X1 and X2 were non-zero values \n",
    "# has to do with how floating point numbers are handled in programming languages.\n",
    "# Floating data types are 8 bits, \n",
    "# so terms who are more easily represented by a factor of 8 will be more accurately captured\n",
    "# such as x3 and x4 who use 0.25 (1/4) and 0.5 (1/2) respectively, \n",
    "# Whereas x1 and x2 use 0.1 which is harder to write as a fraction of 8 (~1/8)\n",
    "# Both X1 and X2 use the addition term of 0.1 which might"
   ]
  },
  {
   "cell_type": "markdown",
   "id": "3f142d9c",
   "metadata": {},
   "source": [
    "### Part c"
   ]
  },
  {
   "cell_type": "code",
   "execution_count": 46,
   "id": "78a60061",
   "metadata": {},
   "outputs": [],
   "source": [
    "# X3 and X4 are exactly Zero. \n",
    "# I guess this has to do with the fact \n",
    "# that since they fit within a nice fraction of 8, \n",
    "# [x3: 0.25] being 1/4 and [x4: 0.5] being 1/2\n",
    "# there isn't any ambiguity when they are calculated by the computer? "
   ]
  },
  {
   "cell_type": "markdown",
   "id": "e584291d",
   "metadata": {},
   "source": [
    "## Problem 2"
   ]
  },
  {
   "cell_type": "code",
   "execution_count": 55,
   "id": "5d97f375",
   "metadata": {},
   "outputs": [
    {
     "data": {
      "image/png": "[encoded data removed]",
      "text/plain": [
       "<Figure size 432x288 with 1 Axes>"
      ]
     },
     "metadata": {
      "needs_background": "light"
     },
     "output_type": "display_data"
    }
   ],
   "source": [
    "import numpy as np\n",
    "import matplotlib.pyplot as plt\n",
    "xdata = np.linspace(-np.pi, np.pi, 100)\n",
    "cosgraph = np.cos(xdata)\n",
    "\n",
    "TaylorSwift1 = 0*xdata\n",
    "for k in range(0,2):\n",
    "    numerator = ((-1)**k)\n",
    "    denominator = np.math.factorial(2*k)\n",
    "    TaylorSwift1 += numerator*(xdata**(2*k))/denominator\n",
    "\n",
    "\n",
    "TaylorSwift3 = 0*xdata\n",
    "for k in range(0,4):\n",
    "    numerator = ((-1)**k)\n",
    "    denominator = np.math.factorial(2*k)\n",
    "    TaylorSwift3 += numerator*(xdata**(2*k))/denominator\n",
    "\n",
    "\n",
    "TaylorSwift14 = np.zeros(100)\n",
    "for k in range(0,15):\n",
    "    TaylorSwift14 += ((-1)**(k)/(np.math.factorial(2*k)))*(xdata**(2*k))\n",
    "\n",
    "plt.rc('xtick',labelsize=10)\n",
    "plt.rc('ytick', labelsize=10)\n",
    "plt.plot(xdata, cosgraph, color = 'k', linewidth = 2, label = 'cos(x)')\n",
    "plt.plot(xdata, TaylorSwift1, color = 'b', linestyle = '--', linewidth = 2, label = 'n=1 Taylor')\n",
    "plt.plot(xdata, TaylorSwift3, color = 'r', linestyle = '-.', linewidth = 2, label = 'n=3 Taylor')\n",
    "plt.plot(xdata, TaylorSwift14, color = 'm', linestyle = ':', linewidth = 2, label = 'n=14 Taylor')\n",
    "plt.xlabel(\"x-values\", fontsize=15)\n",
    "plt.ylabel(\"cos(x) Approximations\", fontsize=15)\n",
    "plt.title(\"cos(x) and its Taylor Approximations\", fontsize=20)\n",
    "plt.legend(fontsize=10)\n",
    "plt.show()"
   ]
  }
 ],
 "metadata": {
  "kernelspec": {
   "display_name": "base",
   "language": "python",
   "name": "python3"
  },
  "language_info": {
   "codemirror_mode": {
    "name": "ipython",
    "version": 3
   },
   "file_extension": ".py",
   "mimetype": "text/x-python",
   "name": "python",
   "nbconvert_exporter": "python",
   "pygments_lexer": "ipython3",
   "version": "3.9.7"
  },
  "vscode": {
   "interpreter": {
    "hash": "5eed35d4d6d110e7d92dd11b1742567a84563cb574dfdd51629a7d274e0d0619"
   }
  }
 },
 "nbformat": 4,
 "nbformat_minor": 5
}
